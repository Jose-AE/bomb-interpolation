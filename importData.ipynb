{
 "cells": [
  {
   "cell_type": "code",
   "execution_count": 1,
   "metadata": {},
   "outputs": [
    {
     "name": "stderr",
     "output_type": "stream",
     "text": [
      "2023-06-06 21:37:54,257 INFO Welcome to the CDS\n",
      "2023-06-06 21:37:54,257 INFO Sending request to https://cds.climate.copernicus.eu/api/v2/resources/reanalysis-carra-pressure-levels\n",
      "2023-06-06 21:37:54,482 INFO Request is completed\n",
      "2023-06-06 21:37:54,482 INFO Downloading https://download-0011-clone.copernicus-climate.eu/cache-compute-0011/cache/data7/adaptor.mars.external-1686107760.4928153-14310-16-e147dda9-3e70-4ae0-bc7a-ff63f33ac8a4.zip to download.nc (9.4G)\n",
      "2023-06-06 22:03:26,431 INFO Download rate 6.3M/s      \n"
     ]
    },
    {
     "data": {
      "text/plain": [
       "Result(content_length=10075553869,content_type=application/zip,location=https://download-0011-clone.copernicus-climate.eu/cache-compute-0011/cache/data7/adaptor.mars.external-1686107760.4928153-14310-16-e147dda9-3e70-4ae0-bc7a-ff63f33ac8a4.zip)"
      ]
     },
     "execution_count": 1,
     "metadata": {},
     "output_type": "execute_result"
    }
   ],
   "source": [
    "import cdsapi\n",
    "\n",
    "c = cdsapi.Client(\n",
    "    key=f\"202397:891fb28d-2ea3-42c3-b43e-d53601d6c131\",\n",
    "    url=\"https://cds.climate.copernicus.eu/api/v2\",\n",
    ")\n",
    "\n",
    "c.retrieve(\n",
    "    \"reanalysis-carra-pressure-levels\",\n",
    "    {\n",
    "        \"format\": \"netcdf\",\n",
    "        \"day\": [\n",
    "            \"18\",\n",
    "            \"19\",\n",
    "            \"20\",\n",
    "            \"21\",\n",
    "            \"22\",\n",
    "            \"23\",\n",
    "            \"24\",\n",
    "            \"25\",\n",
    "            \"26\",\n",
    "            \"27\",\n",
    "            \"28\",\n",
    "            \"29\",\n",
    "            \"30\",\n",
    "            \"31\",\n",
    "        ],\n",
    "        \"variable\": [\n",
    "            \"temperature\",\n",
    "            \"u_component_of_wind\",\n",
    "        ],\n",
    "        \"domain\": \"east_domain\",\n",
    "        \"pressure_level\": [\n",
    "            \"10\",\n",
    "            \"20\",\n",
    "            \"30\",\n",
    "            \"50\",\n",
    "            \"70\",\n",
    "            \"100\",\n",
    "            \"150\",\n",
    "            \"200\",\n",
    "            \"250\",\n",
    "            \"300\",\n",
    "            \"400\",\n",
    "            \"500\",\n",
    "            \"600\",\n",
    "            \"700\",\n",
    "            \"750\",\n",
    "            \"800\",\n",
    "            \"825\",\n",
    "            \"850\",\n",
    "            \"875\",\n",
    "            \"900\",\n",
    "            \"925\",\n",
    "            \"950\",\n",
    "            \"1000\",\n",
    "        ],\n",
    "        \"product_type\": \"analysis\",\n",
    "        \"time\": [\n",
    "            \"06:00\",\n",
    "            \"09:00\",\n",
    "            \"12:00\",\n",
    "            \"15:00\",\n",
    "            \"18:00\",\n",
    "        ],\n",
    "        \"year\": \"2016\",\n",
    "        \"month\": \"08\",\n",
    "    },\n",
    "    \"download.nc\",\n",
    ")"
   ]
  },
  {
   "cell_type": "code",
   "execution_count": null,
   "metadata": {},
   "outputs": [],
   "source": []
  }
 ],
 "metadata": {
  "kernelspec": {
   "display_name": "Python 3",
   "language": "python",
   "name": "python3"
  },
  "language_info": {
   "codemirror_mode": {
    "name": "ipython",
    "version": 3
   },
   "file_extension": ".py",
   "mimetype": "text/x-python",
   "name": "python",
   "nbconvert_exporter": "python",
   "pygments_lexer": "ipython3",
   "version": "3.11.0"
  },
  "orig_nbformat": 4
 },
 "nbformat": 4,
 "nbformat_minor": 2
}
