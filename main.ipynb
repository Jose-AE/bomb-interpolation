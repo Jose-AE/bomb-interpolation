{
 "cells": [
  {
   "cell_type": "code",
   "execution_count": 14,
   "metadata": {},
   "outputs": [],
   "source": [
    "import multiprocessing\n",
    "import numpy as np\n",
    "import os\n",
    "import pandas as pd\n",
    "from tqdm import tqdm\n",
    "import netCDF4 as cdf\n",
    "from datetime import datetime, timedelta\n",
    "from scipy.interpolate import griddata\n",
    "import concurrent.futures"
   ]
  },
  {
   "cell_type": "code",
   "execution_count": 15,
   "metadata": {},
   "outputs": [],
   "source": [
    "year = \"2016\"\n",
    "explotion_times_directory = \"explotion-times/\"\n",
    "nc_directory = \"carra-files/param_130.nc\""
   ]
  },
  {
   "attachments": {},
   "cell_type": "markdown",
   "metadata": {},
   "source": [
    "## Open and read .nc file variables\n"
   ]
  },
  {
   "cell_type": "code",
   "execution_count": 16,
   "metadata": {},
   "outputs": [
    {
     "name": "stdout",
     "output_type": "stream",
     "text": [
      "(375, 312)\n",
      "(375, 312)\n",
      "(70,)\n",
      "(70, 23, 375, 312)\n"
     ]
    }
   ],
   "source": [
    "nc = cdf.Dataset(nc_directory)\n",
    "longitudes = nc.variables[\"longitude\"][100:475, 477:]\n",
    "latitudes = nc.variables[\"latitude\"][100:475, 477:]\n",
    "raw_times = nc.variables[\"time\"][:]\n",
    "temperture = nc.variables[\"t\"][..., 100:475, 477:]\n",
    "nc.close()\n",
    "\n",
    "print(np.shape(longitudes))\n",
    "print(np.shape(latitudes))\n",
    "print(np.shape(raw_times))\n",
    "print(np.shape(temperture))"
   ]
  },
  {
   "attachments": {},
   "cell_type": "markdown",
   "metadata": {},
   "source": [
    "## Organize data\n"
   ]
  },
  {
   "cell_type": "code",
   "execution_count": 17,
   "metadata": {},
   "outputs": [
    {
     "name": "stdout",
     "output_type": "stream",
     "text": [
      "(72, 1)\n",
      "(72, 1)\n",
      "(72, 2)\n"
     ]
    }
   ],
   "source": [
    "new_longitudes = np.where(longitudes <= 180, longitudes, longitudes - 360)\n",
    "reshaped_longitudes = new_longitudes.view().reshape(np.size(longitudes), 1)\n",
    "reshaped_latitudes = latitudes.view().reshape(np.size(latitudes), 1)\n",
    "coords_full_set = np.hstack((reshaped_longitudes, reshaped_latitudes))\n",
    "\n",
    "longitudes_to_interp = np.linspace(25.5, 25, 72).reshape(72, 1)\n",
    "latitudes_to_interp = np.linspace(66, 69, 72).reshape(72, 1)\n",
    "coords_to_interp = np.block([longitudes_to_interp, latitudes_to_interp])\n",
    "\n",
    "\n",
    "print(np.shape(longitudes_to_interp))\n",
    "print(np.shape(latitudes_to_interp))\n",
    "print(np.shape(coords_to_interp))"
   ]
  },
  {
   "cell_type": "code",
   "execution_count": 18,
   "metadata": {},
   "outputs": [
    {
     "name": "stdout",
     "output_type": "stream",
     "text": [
      "['2016-231_12.29.58.500.ARC', '2016-232_11.29.59.350.ARC', '2016-233_13.29.59.550.ARC', '2016-234_13.00.00.100.ARC', '2016-235_11.59.59.500.ARC', '2016-236_12.59.59.450.ARC', '2016-237_11.59.59.400.ARC', '2016-238_11.29.59.400.ARC', '2016-239_11.29.58.650.ARC', '2016-240_12.59.59.100.ARC', '2016-241_10.59.59.000.ARC', '2016-242_09.59.58.550.ARC', '2016-242_14.09.58.450.ARC', '2016-243_07.54.57.750.ARC', '2016-243_10.04.57.300.ARC', '2016-243_12.24.56.850.ARC', '2016-244_08.49.58.950.ARC', '2016-244_11.44.58.700.ARC', '2016-244_15.44.58.750.ARC']\n"
     ]
    }
   ],
   "source": [
    "arc_files = [\n",
    "    filename\n",
    "    for filename in os.listdir(explotion_times_directory)\n",
    "    if filename[0:4] == year\n",
    "]\n",
    "\n",
    "print(arc_files)\n",
    "\n",
    "\n",
    "whole_dates = np.array(  ## .nc  dates\n",
    "    [\n",
    "        datetime.utcfromtimestamp(posix_timestamp).strftime(\"%Y-%m-%dT%H:%M\")\n",
    "        for posix_timestamp in raw_times\n",
    "    ],\n",
    "    dtype=\"datetime64[m]\",\n",
    ")\n",
    "\n",
    "explosion_dates = np.empty(len(arc_files), dtype=\"datetime64[m]\")  # .arc dates\n",
    "\n",
    "\n",
    "# iterar por cada .ARC y encontrar cuando exploto la bomba y sacar la fecha y salvarla a explosion_dates\n",
    "for index, file in enumerate(arc_files):\n",
    "    data = pd.read_csv(\n",
    "        explotion_times_directory + file, delim_whitespace=True, header=None\n",
    "    )\n",
    "\n",
    "    # arc column where bomb exploded (eg: 366)\n",
    "    explotion = np.argmax(data.iloc[:, 3])\n",
    "\n",
    "    # arc column where bomb exploded (eg: 366)\n",
    "    date_of_explotion = data.iloc[explotion, 0]\n",
    "\n",
    "    year_of_explotion = date_of_explotion[0:4]\n",
    "    day_number_of_explotion = date_of_explotion[5:8]\n",
    "    hour_of_explotion = date_of_explotion[9:11]\n",
    "    minutes_of_explotion = date_of_explotion[12:14]\n",
    "\n",
    "    day_number_of_explotion = day_number_of_explotion.rjust(\n",
    "        3 + len(day_number_of_explotion), \"0\"\n",
    "    )\n",
    "    template_date = datetime(\n",
    "        int(year_of_explotion), 1, 1, int(hour_of_explotion), int(minutes_of_explotion)\n",
    "    )\n",
    "    resulting_object_date = template_date + timedelta(\n",
    "        days=int(day_number_of_explotion) - 1\n",
    "    )\n",
    "    resulting_string_date = resulting_object_date.strftime(\"%Y-%m-%dT%H:%M\")\n",
    "\n",
    "    explosion_dates[index] = resulting_string_date"
   ]
  },
  {
   "cell_type": "code",
   "execution_count": 19,
   "metadata": {},
   "outputs": [],
   "source": [
    "# clean whole_dates to only keep the ones that match with explosion dates\n",
    "def date_cleaner(whole_dates, explosion_dates):\n",
    "    def index_finder(datetime_array, explosion_date):\n",
    "        indices = np.argsort(np.abs(datetime_array - explosion_date))[:2]\n",
    "        return indices\n",
    "\n",
    "    desired_indices = []\n",
    "    with np.nditer([explosion_dates], flags=[\"buffered\"], op_flags=[\"readonly\"]) as it:\n",
    "        for explosion_date in it:\n",
    "            desired_indices.extend(index_finder(whole_dates, explosion_date))\n",
    "\n",
    "    return desired_indices\n",
    "\n",
    "\n",
    "desired_indices = np.unique(\n",
    "    date_cleaner(whole_dates, explosion_dates)\n",
    ")  # indexes of cleaned dates\n",
    "cleaned_dates = whole_dates[desired_indices]"
   ]
  },
  {
   "cell_type": "code",
   "execution_count": 20,
   "metadata": {},
   "outputs": [],
   "source": [
    "def first_interpolator(kind_of_measurement, selected_time, out=None):\n",
    "    # kind of mesurments is a num from 1 to 3\n",
    "    # selected time is cleaned_dates\n",
    "\n",
    "    def second_interpolator(sequence_of_interpolants):\n",
    "        # sequence_of_interpolants is a list of lists\n",
    "\n",
    "        # convert to array\n",
    "        array_of_interpolants = np.array(sequence_of_interpolants)\n",
    "        # shape(heigths, times, interpolants)\n",
    "\n",
    "        index = 0\n",
    "        with np.nditer(\n",
    "            [array_of_interpolants, out],\n",
    "            flags=[\"buffered\", \"multi_index\", \"refs_ok\"],\n",
    "            op_flags=[[\"readonly\"], [\"writeonly\", \"allocate\", \"no_broadcast\"]],\n",
    "        ) as it:\n",
    "            for measurement_values, interpolants_for_a_time in it:\n",
    "                # interpolant is what the program outputs\n",
    "                interpolant = np.interp(\n",
    "                    explosion_dates,\n",
    "                    cleaned_dates,\n",
    "                    [\n",
    "                        measurement_values[:, index, :],\n",
    "                        measurement_values[:, index + 1, :],\n",
    "                    ],\n",
    "                )\n",
    "                interpolants_for_a_time[...] = interpolant\n",
    "                index += 1\n",
    "                result = it.operands[1]\n",
    "        print(result)\n",
    "\n",
    "        print(\"\\nInterpolación temporal exitosa\\n\")\n",
    "\n",
    "    if kind_of_measurement == 1:\n",
    "        cleaned_temperture = temperture[\n",
    "            desired_indices, ...\n",
    "        ]  # get temperatures we want with indexes\n",
    "\n",
    "        # clean temps is a 4d array\n",
    "\n",
    "        \"\"\"\n",
    "        example = [\n",
    "            [\n",
    "                [\n",
    "                    [\n",
    "                        []#y size ~250\n",
    "                    ]#x size ~250\n",
    "                    ]#height size 23\n",
    "            ] #time size 33 \n",
    "        ]\n",
    "        \"\"\"\n",
    "\n",
    "        # loop that\n",
    "        with np.nditer(\n",
    "            [np.arange(0, 1, 1)]\n",
    "        ) as it:  # en teoría aquí va un 23, por 23 alturas\n",
    "            for height in it:\n",
    "                # each iterations appends a list to this variable\n",
    "                measurements_at_same_height = (\n",
    "                    []\n",
    "                )  # aquí sería un arreglo creado con np.empty\n",
    "                with np.nditer(\n",
    "                    [np.arange(0, 2, 1)]\n",
    "                ) as it:  # aquí el tamaño del arreglo cleaned dates\n",
    "                    for time in it:\n",
    "                        print(f\"time: {time}\")  # int ,0,1,2...\n",
    "                        print(f\"height: {height}\")  # int ,0,0..int\n",
    "\n",
    "                        flatten_temperture = cleaned_temperture[\n",
    "                            time, height, ...\n",
    "                        ].ravel()\n",
    "                        temperture_interpolants = griddata(\n",
    "                            coords_full_set,\n",
    "                            flatten_temperture,\n",
    "                            coords_to_interp,\n",
    "                            method=\"cubic\",\n",
    "                        )\n",
    "                        measurements_at_same_height.append(\n",
    "                            list(temperture_interpolants)\n",
    "                        )\n",
    "                        # measurements_at_same_height[index] = list(temperture_interpolants) en caso de usar el arreglo creado con np.empty\n",
    "                sequence_of_interpolants.append(measurements_at_same_height)\n",
    "\n",
    "    print(\"Interpolación espacial exitosa\")\n",
    "    second_interpolator(sequence_of_interpolants)\n",
    "\n",
    "\n",
    "sequence_of_interpolants = []\n",
    "\n",
    "kind_of_measurement = int(\n",
    "    input(\n",
    "        \"1. Temperatura\\n2. Velocidad del viento\\n3. Dirección del viento\\nIntroduce el número de la medida a interpolar: \"\n",
    "    )\n",
    ")\n",
    "while kind_of_measurement in range(1, 4):\n",
    "    break\n",
    "    print(\"\\nInterpolación en proceso...\\n\")\n",
    "    first_interpolator(kind_of_measurement, cleaned_dates)\n",
    "    kind_of_measurement = False"
   ]
  },
  {
   "cell_type": "code",
   "execution_count": 21,
   "metadata": {},
   "outputs": [],
   "source": [
    "import concurrent.futures\n",
    "import time\n",
    "\n",
    "\n",
    "def nested_loop():\n",
    "    cleaned_temperture = temperture[desired_indices, ...]\n",
    "\n",
    "    def process_griddata(time_i, height_i):\n",
    "        return list(\n",
    "            griddata(\n",
    "                coords_full_set,\n",
    "                cleaned_temperture[time_i, height_i, ...].ravel(),\n",
    "                coords_to_interp,\n",
    "                method=\"cubic\",\n",
    "            )\n",
    "        )\n",
    "\n",
    "    measurements_at_same_height = []\n",
    "\n",
    "    # Create a ThreadPoolExecutor with 3 threads\n",
    "    with concurrent.futures.ThreadPoolExecutor(max_workers=4) as executor:\n",
    "        # Iterate over the outer loop\n",
    "        for time_i in range(np.shape(cleaned_temperture)[0]):\n",
    "            # Submit each iteration of the inner loop as a separate task to the executor\n",
    "            futures = [\n",
    "                executor.submit(process_griddata, time_i, height_i)\n",
    "                for height_i in range(np.shape(cleaned_temperture)[1])\n",
    "            ]\n",
    "\n",
    "            # Wait for all tasks to complete\n",
    "            concurrent.futures.wait(futures)\n",
    "\n",
    "            # Process the results\n",
    "            results = [future.result() for future in futures]\n",
    "            measurements_at_same_height.extend(results)\n",
    "\n",
    "\n",
    "def interpolate(measurement, dates):\n",
    "    sequence_of_interpolants = []\n",
    "\n",
    "    if measurement == 1:\n",
    "        # get temperatures we want with indexes\n",
    "        cleaned_temperture = temperture[desired_indices, ...]\n",
    "\n",
    "        # clean temps is a 4d array\n",
    "\n",
    "        \"\"\"\n",
    "        example = [\n",
    "            [\n",
    "                [\n",
    "                    [\n",
    "                        []#y size ~250\n",
    "                    ]#x size ~250\n",
    "                    ]#height size 23\n",
    "            ] #time size 33 \n",
    "        ]\n",
    "        \"\"\"\n",
    "        measurements_at_same_height = []\n",
    "\n",
    "        for time_i in tqdm(range(np.shape(cleaned_temperture)[0]), desc=\"Loading...\"):\n",
    "            for height_i in range(np.shape(cleaned_temperture)[1]):\n",
    "                measurements_at_same_height.append(\n",
    "                    list(\n",
    "                        griddata(\n",
    "                            coords_full_set,\n",
    "                            cleaned_temperture[time_i, height_i, ...].ravel(),\n",
    "                            coords_to_interp,\n",
    "                            method=\"cubic\",\n",
    "                        )\n",
    "                    )\n",
    "                )\n",
    "\n",
    "                \"\"\"\n",
    "                clear_output(wait=True)\n",
    "                print(\n",
    "                    f\"Progress: {(((time_i * 10) + height_i + 1 ) / (np.shape(cleaned_temperture)[0]*np.shape(cleaned_temperture)[1])) * 100}%\"\n",
    "                )\n",
    "\n",
    "                \n",
    "        \n",
    "                for x_i in range(np.shape(cleaned_temperture)[2]):\n",
    "                    for y_i in range(np.shape(cleaned_temperture)[3]):\n",
    "                        pass\n",
    "                        #print(x)\n",
    "                \"\"\"\n",
    "        print(measurements_at_same_height)\n",
    "\n",
    "\n",
    "# interpolate(1, cleaned_dates)"
   ]
  },
  {
   "cell_type": "code",
   "execution_count": 22,
   "metadata": {},
   "outputs": [],
   "source": [
    "import concurrent.futures\n",
    "import time\n",
    "\n",
    "\n",
    "def process_item(i, j):\n",
    "    time.sleep(1)\n",
    "    return (i, j)\n",
    "\n",
    "\n",
    "def nested_loop():\n",
    "    l = []\n",
    "\n",
    "    # Create a ThreadPoolExecutor with 3 threads\n",
    "    with concurrent.futures.ThreadPoolExecutor(max_workers=3) as executor:\n",
    "        # Iterate over the outer loop\n",
    "        for i in range(10):\n",
    "            # Submit each iteration of the inner loop as a separate task to the executor\n",
    "            futures = [executor.submit(process_item, i, j) for j in range(20)]\n",
    "\n",
    "            # Wait for all tasks to complete\n",
    "            concurrent.futures.wait(futures)\n",
    "\n",
    "            # Process the results\n",
    "            results = [future.result() for future in futures]\n",
    "            l.extend(results)\n",
    "\n",
    "    print(l)"
   ]
  },
  {
   "cell_type": "code",
   "execution_count": 32,
   "metadata": {},
   "outputs": [
    {
     "name": "stderr",
     "output_type": "stream",
     "text": [
      "100%|██████████| 759/759 [08:40<00:00,  1.46it/s]"
     ]
    },
    {
     "name": "stdout",
     "output_type": "stream",
     "text": [
      "[[285.27858405 285.22968264 285.218812   ... 283.25728675 283.26878657\n",
      "  283.29251187]\n",
      " [283.27811038 283.249422   283.25590294 ... 280.50842362 280.51865924\n",
      "  280.5414514 ]\n",
      " [281.99334551 282.072912   282.16131737 ... 279.41696986 279.39569965\n",
      "  279.41756179]\n",
      " ...\n",
      " [222.56860797 222.57062655 222.57335093 ... 223.26464907 223.26992991\n",
      "  223.27742676]\n",
      " [218.5185453  218.51811619 218.51812988 ... 218.80826515 218.80990748\n",
      "  218.81333902]\n",
      " [215.45677907 215.45382782 215.45117549 ... 215.26340738 215.26156835\n",
      "  215.26085135]]\n"
     ]
    },
    {
     "name": "stderr",
     "output_type": "stream",
     "text": [
      "\n"
     ]
    }
   ],
   "source": [
    "def interpolate():\n",
    "    cleaned_temperture = temperture[desired_indices, ...]\n",
    "\n",
    "    def process_griddata(time_i, height_i):\n",
    "        return list(\n",
    "            griddata(\n",
    "                coords_full_set,\n",
    "                cleaned_temperture[time_i, height_i, ...].ravel(),\n",
    "                coords_to_interp,\n",
    "                method=\"cubic\",\n",
    "            )\n",
    "        )\n",
    "\n",
    "    array_of_interpolants = []\n",
    "\n",
    "    # Create a ThreadPoolExecutor with max threads\n",
    "    with concurrent.futures.ThreadPoolExecutor(\n",
    "        max_workers=multiprocessing.cpu_count()\n",
    "    ) as executor:\n",
    "        progress_bar = tqdm(\n",
    "            total=np.shape(cleaned_temperture)[0] * np.shape(cleaned_temperture)[1]\n",
    "        )\n",
    "\n",
    "        # Iterate over the outer loop\n",
    "        for time_i in range(np.shape(cleaned_temperture)[0]):\n",
    "            # Submit each iteration of the inner loop as a separate task to the executor\n",
    "            futures = [\n",
    "                executor.submit(process_griddata, time_i, height_i)\n",
    "                for height_i in range(np.shape(cleaned_temperture)[1])\n",
    "            ]\n",
    "\n",
    "            # Update the progress bar for each submitted task\n",
    "            for future in futures:\n",
    "                future.add_done_callback(lambda p: progress_bar.update(1))\n",
    "\n",
    "            # Wait for all tasks to complete\n",
    "            concurrent.futures.wait(futures)\n",
    "\n",
    "            # Process the results\n",
    "            array_of_interpolants = np.array([future.result() for future in futures])\n",
    "\n",
    "    print(array_of_interpolants)\n",
    "    np.save(\"array_of_interpolants.npy\", array_of_interpolants)\n",
    "\n",
    "\n",
    "interpolate()"
   ]
  },
  {
   "cell_type": "code",
   "execution_count": 33,
   "metadata": {},
   "outputs": [
    {
     "name": "stdout",
     "output_type": "stream",
     "text": [
      "[[285.27858405 285.22968264 285.218812   ... 283.25728675 283.26878657\n",
      "  283.29251187]\n",
      " [283.27811038 283.249422   283.25590294 ... 280.50842362 280.51865924\n",
      "  280.5414514 ]\n",
      " [281.99334551 282.072912   282.16131737 ... 279.41696986 279.39569965\n",
      "  279.41756179]\n",
      " ...\n",
      " [222.56860797 222.57062655 222.57335093 ... 223.26464907 223.26992991\n",
      "  223.27742676]\n",
      " [218.5185453  218.51811619 218.51812988 ... 218.80826515 218.80990748\n",
      "  218.81333902]\n",
      " [215.45677907 215.45382782 215.45117549 ... 215.26340738 215.26156835\n",
      "  215.26085135]]\n"
     ]
    },
    {
     "ename": "IndexError",
     "evalue": "too many indices for array: array is 1-dimensional, but 3 were indexed",
     "output_type": "error",
     "traceback": [
      "\u001b[1;31m---------------------------------------------------------------------------\u001b[0m",
      "\u001b[1;31mIndexError\u001b[0m                                Traceback (most recent call last)",
      "Cell \u001b[1;32mIn[33], line 11\u001b[0m\n\u001b[0;32m      4\u001b[0m result \u001b[39m=\u001b[39m []\n\u001b[0;32m      6\u001b[0m \u001b[39mfor\u001b[39;00m i, measurement_values \u001b[39min\u001b[39;00m \u001b[39menumerate\u001b[39m(array_of_interpolants):\n\u001b[0;32m      7\u001b[0m     interpolant \u001b[39m=\u001b[39m np\u001b[39m.\u001b[39minterp(\n\u001b[0;32m      8\u001b[0m         explosion_dates,\n\u001b[0;32m      9\u001b[0m         cleaned_dates,\n\u001b[0;32m     10\u001b[0m         [\n\u001b[1;32m---> 11\u001b[0m             measurement_values[:, i, :],\n\u001b[0;32m     12\u001b[0m             measurement_values[:, i \u001b[39m+\u001b[39m \u001b[39m1\u001b[39m, :],\n\u001b[0;32m     13\u001b[0m         ],\n\u001b[0;32m     14\u001b[0m     )\n\u001b[0;32m     15\u001b[0m     result\u001b[39m.\u001b[39mappend(interpolant)\n\u001b[0;32m     18\u001b[0m result \u001b[39m=\u001b[39m np\u001b[39m.\u001b[39marray(result)\n",
      "\u001b[1;31mIndexError\u001b[0m: too many indices for array: array is 1-dimensional, but 3 were indexed"
     ]
    }
   ],
   "source": [
    "array_of_interpolants = np.load(\"array_of_interpolants.npy\")\n",
    "print(array_of_interpolants)\n",
    "\n",
    "result = []\n",
    "\n",
    "for i, measurement_values in enumerate(array_of_interpolants):\n",
    "    interpolant = np.interp(\n",
    "        explosion_dates,\n",
    "        cleaned_dates,\n",
    "        [\n",
    "            measurement_values[:, i, :],\n",
    "            measurement_values[:, i + 1, :],\n",
    "        ],\n",
    "    )\n",
    "    result.append(interpolant)\n",
    "\n",
    "\n",
    "result = np.array(result)\n",
    "\n",
    "\n",
    "print(result)"
   ]
  },
  {
   "cell_type": "code",
   "execution_count": 27,
   "metadata": {},
   "outputs": [
    {
     "data": {
      "text/plain": [
       "array([1, 2, 3])"
      ]
     },
     "execution_count": 27,
     "metadata": {},
     "output_type": "execute_result"
    }
   ],
   "source": [
    "np.load(\"array_of_interpolants.npy\")"
   ]
  },
  {
   "cell_type": "code",
   "execution_count": 31,
   "metadata": {},
   "outputs": [
    {
     "data": {
      "text/plain": [
       "array([ 0,  1,  2,  3,  4,  5,  6,  7,  8,  9, 10, 11, 12, 13, 14, 15, 16,\n",
       "       17, 18, 19, 20, 21, 22, 23, 24, 25, 26, 27, 28, 29, 30, 31, 32, 33,\n",
       "       34, 35, 36, 37, 38, 39, 40, 41, 42, 43, 44, 45, 46, 47, 48, 49, 50,\n",
       "       51, 52, 53, 54, 55, 56, 57])"
      ]
     },
     "execution_count": 31,
     "metadata": {},
     "output_type": "execute_result"
    }
   ],
   "source": [
    "array_of_interpolants = np.array([i for i in range(58)])\n",
    "array_of_interpolants"
   ]
  },
  {
   "cell_type": "code",
   "execution_count": null,
   "metadata": {},
   "outputs": [],
   "source": []
  }
 ],
 "metadata": {
  "kernelspec": {
   "display_name": "Python 3",
   "language": "python",
   "name": "python3"
  },
  "language_info": {
   "codemirror_mode": {
    "name": "ipython",
    "version": 3
   },
   "file_extension": ".py",
   "mimetype": "text/x-python",
   "name": "python",
   "nbconvert_exporter": "python",
   "pygments_lexer": "ipython3",
   "version": "3.11.0"
  },
  "orig_nbformat": 4
 },
 "nbformat": 4,
 "nbformat_minor": 2
}
